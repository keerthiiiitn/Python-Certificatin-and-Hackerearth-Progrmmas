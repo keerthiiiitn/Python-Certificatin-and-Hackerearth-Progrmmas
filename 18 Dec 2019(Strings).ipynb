{
 "cells": [
  {
   "cell_type": "code",
   "execution_count": null,
   "metadata": {},
   "outputs": [],
   "source": [
    "\n",
    "Syntax : { } { } .format(value1, value2)\n",
    "\n",
    "print (\"Hello, I am {} years old !\".format(18))  \n",
    "\n",
    "print(\"Hello, I am {} \".format(\"Keerthi\"))\n",
    "\n",
    "### find()\n",
    "\n",
    "str = \"my name is keerthi\"\n",
    "print(str.find('e'))\n",
    "\n",
    "### format_map()\n",
    "- Parameters :-\n",
    "    input_dict : Takes a single parameter which is input dictionary.\n",
    "- Returns :-\n",
    "    Returns key's values of the input dictionary.\n",
    "\n",
    "# input stored in variable a. \n",
    "a = {'x':'John', 'y':'Wick'} \n",
    "  \n",
    "# Use of format_map() function \n",
    "print(\"{x}'s last name is {y}\".format_map(a)) \n",
    "\n",
    "a = {'x':\"geeksforgeeks\", 'y':'b'} \n",
    "print('{x} {y}'.format_map(a))\n",
    "\n",
    "### index()\n",
    "- index() method searches an element in the list and returns its index.\n",
    "- list_name.index(element, start, end)\n",
    "    - element :- The element whose lowest index will be returned.\n",
    "    - start (Optional) :- The position from where the search begins.\n",
    "    - end (Optional) :- The position from where the search ends.\n",
    "\n",
    "str = \"Hello python\"\n",
    "print(str.index('p'))\n",
    "\n",
    "list1 = [1,3,5,7,3,2,2,2,9,8]\n",
    "\n",
    "# Will print index of 'cat' in sublist \n",
    "# having index from 2 to 6 \n",
    "print(list1.index(2,4,8))\n",
    "\n",
    "list2 = ['cat', 'bat', 'mat', 'cat', 'get', 'cat', 'sat', 'pet'] \n",
    "\n",
    "# Will print index of 'cat' in sublist \n",
    "# having index from 2 to 6 \n",
    "print(list2.index('cat', 2, 6 )) \n",
    "\n",
    "### isalnum()\n",
    "- isalnum() function in Python programming language checks whether all the characters in a given string is alphanumeric or not.\n",
    "\n",
    "str = \"hello123\"\n",
    "print(str.isalnum())\n",
    "\n",
    "str = \"Hello Python\"\n",
    "print(str.isalnum())\n",
    "\n",
    "### isalpha()\n",
    "- The isalpha() methods returns “True” if all characters in the string are alphabets, Otherwise, It returns “False”.\n",
    "\n",
    "str = \"Hello Python\"\n",
    "print(str.isalpha())\n",
    "\n",
    "str = \"121345\"\n",
    "print(str.isalpha())\n",
    "\n",
    "### isascii()\n",
    "- As the name of the method suggests, this method checks whether the string contains ASCII characters, i.e checks whether the string is printable or not.\n",
    "- This method has been newly introduced in Python version 3.7\n",
    "- Syntax : string.isascii()\n",
    "- This method doesn't take any parameters and the string refers to the input string which is checked for the presence of ASCII characters.\n",
    "- It returns True if the string is empty or if all the characters in the string are ASCII characters. Otherwise, it returns False.\n",
    "\n",
    "my_string = '  '\n",
    "print(my_string.isascii())\n",
    "\n",
    "my_string = 'Studytonight'\n",
    "print(my_string.isascii())\n",
    "\n",
    "my_string = 'Study tonight'\n",
    "print(my_string.isascii())\n",
    "\n",
    "my_string = 'Studytonight@123'\n",
    "print(my_string.isascii())\n",
    "\n",
    "my_string = '°'\n",
    "print(my_string.isascii())\n",
    "\n",
    "my_string = 'ö'\n",
    "print(my_string.isascii())"
   ]
  },
  {
   "cell_type": "code",
   "execution_count": 2,
   "metadata": {},
   "outputs": [
    {
     "data": {
      "text/plain": [
       "'hello World!'"
      ]
     },
     "execution_count": 2,
     "metadata": {},
     "output_type": "execute_result"
    }
   ],
   "source": [
    "s = \"hello World!\"\n",
    "s"
   ]
  },
  {
   "cell_type": "code",
   "execution_count": 3,
   "metadata": {},
   "outputs": [
    {
     "name": "stdout",
     "output_type": "stream",
     "text": [
      "['__add__', '__class__', '__contains__', '__delattr__', '__dir__', '__doc__', '__eq__', '__format__', '__ge__', '__getattribute__', '__getitem__', '__getnewargs__', '__gt__', '__hash__', '__init__', '__init_subclass__', '__iter__', '__le__', '__len__', '__lt__', '__mod__', '__mul__', '__ne__', '__new__', '__reduce__', '__reduce_ex__', '__repr__', '__rmod__', '__rmul__', '__setattr__', '__sizeof__', '__str__', '__subclasshook__', 'capitalize', 'casefold', 'center', 'count', 'encode', 'endswith', 'expandtabs', 'find', 'format', 'format_map', 'index', 'isalnum', 'isalpha', 'isascii', 'isdecimal', 'isdigit', 'isidentifier', 'islower', 'isnumeric', 'isprintable', 'isspace', 'istitle', 'isupper', 'join', 'ljust', 'lower', 'lstrip', 'maketrans', 'partition', 'replace', 'rfind', 'rindex', 'rjust', 'rpartition', 'rsplit', 'rstrip', 'split', 'splitlines', 'startswith', 'strip', 'swapcase', 'title', 'translate', 'upper', 'zfill'] "
     ]
    }
   ],
   "source": [
    "a = dir(str)\n",
    "print(a,end=\" \")"
   ]
  },
  {
   "cell_type": "markdown",
   "metadata": {},
   "source": [
    "### capitalize()\n",
    "- The capitalize() method converts the first character of a string to capital (uppercase) letter. If the string has its first character as capital, then it returns the original string. \n",
    "- Syntax: string_name.capitalize()"
   ]
  },
  {
   "cell_type": "code",
   "execution_count": 4,
   "metadata": {},
   "outputs": [
    {
     "name": "stdout",
     "output_type": "stream",
     "text": [
      "Hello python\n"
     ]
    }
   ],
   "source": [
    "str = \"hello python\"\n",
    "print(str.capitalize())"
   ]
  },
  {
   "cell_type": "code",
   "execution_count": 5,
   "metadata": {},
   "outputs": [
    {
     "name": "stdout",
     "output_type": "stream",
     "text": [
      "Hello python\n"
     ]
    }
   ],
   "source": [
    "str = \"Hello Python\"\n",
    "print(str.capitalize())"
   ]
  },
  {
   "cell_type": "markdown",
   "metadata": {},
   "source": [
    "### casefold()\n",
    "- The casefold() method is an aggressive lower() method.\n",
    "- The casefold() method doesn't take any parameters."
   ]
  },
  {
   "cell_type": "code",
   "execution_count": 6,
   "metadata": {},
   "outputs": [
    {
     "name": "stdout",
     "output_type": "stream",
     "text": [
      "python is awesome\n"
     ]
    }
   ],
   "source": [
    "string = \"PYTHON IS AWESOME\"\n",
    "print(string.casefold())"
   ]
  },
  {
   "cell_type": "markdown",
   "metadata": {},
   "source": [
    "### center()\n",
    "- Python center() method alligns string to the center by filling paddings left and right of the string.\n",
    "- This method takes two parameters, first is a width and second is a fillchar which is optional.\n",
    "- Syntax : string.center(width, fillchar)"
   ]
  },
  {
   "cell_type": "code",
   "execution_count": 7,
   "metadata": {},
   "outputs": [
    {
     "name": "stdout",
     "output_type": "stream",
     "text": [
      "   hello keerthi    \n"
     ]
    }
   ],
   "source": [
    "str = \"hello keerthi\"\n",
    "str2 = str.center(20)\n",
    "print(str2)"
   ]
  },
  {
   "cell_type": "code",
   "execution_count": 8,
   "metadata": {},
   "outputs": [
    {
     "name": "stdout",
     "output_type": "stream",
     "text": [
      "###hello keerthi####\n"
     ]
    }
   ],
   "source": [
    "str = \"hello keerthi\"\n",
    "str2 = str.center(20,'#')\n",
    "print(str2)"
   ]
  },
  {
   "cell_type": "markdown",
   "metadata": {},
   "source": [
    "### count()\n",
    "- count() is an inbuilt function in Python that returns count of how many times a given object occurs in string.\n",
    "- Syntax : string.count(object) "
   ]
  },
  {
   "cell_type": "code",
   "execution_count": 11,
   "metadata": {},
   "outputs": [
    {
     "name": "stdout",
     "output_type": "stream",
     "text": [
      "0\n"
     ]
    }
   ],
   "source": [
    "str = \"hello keerthi\"\n",
    "print(str.count(\"z\"))"
   ]
  },
  {
   "cell_type": "code",
   "execution_count": 12,
   "metadata": {},
   "outputs": [
    {
     "name": "stdout",
     "output_type": "stream",
     "text": [
      "3\n"
     ]
    }
   ],
   "source": [
    "print(str.count(\"e\"))"
   ]
  },
  {
   "cell_type": "markdown",
   "metadata": {},
   "source": [
    "### encode()"
   ]
  },
  {
   "cell_type": "code",
   "execution_count": 13,
   "metadata": {},
   "outputs": [
    {
     "name": "stdout",
     "output_type": "stream",
     "text": [
      "b'python!'\n"
     ]
    }
   ],
   "source": [
    "str = \"python!\"\n",
    "res = str.encode()\n",
    "print(res)"
   ]
  },
  {
   "cell_type": "markdown",
   "metadata": {},
   "source": [
    "### endswith()"
   ]
  },
  {
   "cell_type": "code",
   "execution_count": 14,
   "metadata": {},
   "outputs": [
    {
     "name": "stdout",
     "output_type": "stream",
     "text": [
      "True\n"
     ]
    }
   ],
   "source": [
    "str = \"my name is keerthi\"\n",
    "print(str.endswith('i'))"
   ]
  },
  {
   "cell_type": "code",
   "execution_count": 15,
   "metadata": {},
   "outputs": [
    {
     "name": "stdout",
     "output_type": "stream",
     "text": [
      "False\n"
     ]
    }
   ],
   "source": [
    "print(str.endswith('k'))"
   ]
  },
  {
   "cell_type": "markdown",
   "metadata": {},
   "source": [
    "### expandtabs()\n",
    "- expandtabs() which specifies the amount of space to be substituted with the “\\t” symbol in the string.\n",
    "- Syntax : expandtabs(space_size)"
   ]
  },
  {
   "cell_type": "code",
   "execution_count": 16,
   "metadata": {},
   "outputs": [
    {
     "name": "stdout",
     "output_type": "stream",
     "text": [
      "my      name    is      keerthi\n"
     ]
    }
   ],
   "source": [
    "str = \"my\\tname\\tis\\tkeerthi\"\n",
    "res = str.expandtabs()\n",
    "print(res)"
   ]
  },
  {
   "cell_type": "code",
   "execution_count": 17,
   "metadata": {},
   "outputs": [
    {
     "name": "stdout",
     "output_type": "stream",
     "text": [
      "TabSize 3 : my name  is keerthi\n"
     ]
    }
   ],
   "source": [
    "print(\"TabSize 3 :\",str.expandtabs(3))"
   ]
  },
  {
   "cell_type": "code",
   "execution_count": 18,
   "metadata": {},
   "outputs": [
    {
     "name": "stdout",
     "output_type": "stream",
     "text": [
      "TabSize 5 : my   name is   keerthi\n"
     ]
    }
   ],
   "source": [
    "print(\"TabSize 5 :\",str.expandtabs(5))"
   ]
  },
  {
   "cell_type": "markdown",
   "metadata": {},
   "source": [
    "### find()\n",
    "- We should use the find() method when we want to know the index position of the substring.\n",
    "- Syntax : string.find(substring)"
   ]
  },
  {
   "cell_type": "code",
   "execution_count": 20,
   "metadata": {},
   "outputs": [
    {
     "data": {
      "text/plain": [
       "'Hai, I am keerthi'"
      ]
     },
     "execution_count": 20,
     "metadata": {},
     "output_type": "execute_result"
    }
   ],
   "source": [
    "str = \"Hai, I am keerthi\"\n",
    "str"
   ]
  },
  {
   "cell_type": "code",
   "execution_count": 22,
   "metadata": {},
   "outputs": [
    {
     "name": "stdout",
     "output_type": "stream",
     "text": [
      "2\n"
     ]
    }
   ],
   "source": [
    "print(str.find('i'))"
   ]
  },
  {
   "cell_type": "code",
   "execution_count": 23,
   "metadata": {},
   "outputs": [
    {
     "name": "stdout",
     "output_type": "stream",
     "text": [
      "5\n"
     ]
    }
   ],
   "source": [
    "print(str.find('I'))"
   ]
  },
  {
   "cell_type": "code",
   "execution_count": null,
   "metadata": {},
   "outputs": [],
   "source": []
  }
 ],
 "metadata": {
  "kernelspec": {
   "display_name": "Python 3",
   "language": "python",
   "name": "python3"
  },
  "language_info": {
   "codemirror_mode": {
    "name": "ipython",
    "version": 3
   },
   "file_extension": ".py",
   "mimetype": "text/x-python",
   "name": "python",
   "nbconvert_exporter": "python",
   "pygments_lexer": "ipython3",
   "version": "3.7.3"
  }
 },
 "nbformat": 4,
 "nbformat_minor": 2
}
